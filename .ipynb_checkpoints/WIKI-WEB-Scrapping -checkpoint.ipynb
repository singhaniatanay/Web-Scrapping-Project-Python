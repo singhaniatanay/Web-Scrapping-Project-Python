{
 "cells": [
  {
   "cell_type": "markdown",
   "metadata": {},
   "source": [
    "# Python Web Scrapping Project"
   ]
  },
  {
   "cell_type": "markdown",
   "metadata": {},
   "source": [
    "### Objective of the Project :\n",
    "- To harvest data from WIKIPEDIA about \"List of international cricket centuries at the WACA Ground\".\n",
    "- Clean the data and perform Data Visualistation\n",
    "- Gain insights about the same from the visualisation"
   ]
  },
  {
   "cell_type": "code",
   "execution_count": 3,
   "metadata": {},
   "outputs": [],
   "source": [
    "from bs4 import BeautifulSoup\n",
    "import requests\n",
    "import pandas as pd"
   ]
  },
  {
   "cell_type": "code",
   "execution_count": 7,
   "metadata": {},
   "outputs": [],
   "source": [
    "url = 'https://en.wikipedia.org/wiki/List_of_international_cricket_centuries_at_the_WACA_Ground'\n",
    "\n",
    "r = requests.get(url)\n",
    "html_doc = r.text\n",
    "soup = BeautifulSoup(html_doc) #Create soup\n",
    "table = soup.table #extract the first table component from the soup\n",
    "table_rows = table.find_all('tr') #find all tr tags inside that table\n",
    "rows = []"
   ]
  },
  {
   "cell_type": "code",
   "execution_count": 8,
   "metadata": {},
   "outputs": [],
   "source": [
    "for tr in table_rows: #accessing each row\n",
    "    tds = tr.find_all('td') #find all td tags inside the tr tags\n",
    "    row = []\n",
    "    name_index = 2 #player name column\n",
    "    count = 0\n",
    "    for td in tds: #accessing each column of a row\n",
    "        \n",
    "        if count == name_index:\n",
    "            row.append(td.text.strip(' (1/2) (2/3) (3/3) \\n \\t')) #strip extra things from the name column\n",
    "        \n",
    "        else:\n",
    "            row.append(td.text.strip()) #strip whitespaces from the columns\n",
    "            \n",
    "        count += 1\n",
    "    rows.append(row)"
   ]
  },
  {
   "cell_type": "code",
   "execution_count": 9,
   "metadata": {},
   "outputs": [
    {
     "name": "stdout",
     "output_type": "stream",
     "text": [
      "[]\n",
      "['1', '131', 'Brian Luckhurst', 'England', '301', '1', 'Australia', '11 December 1970', 'Drawn']\n",
      "['2', '171', 'Ian Redpath', 'Australia', '372', '2', 'England', '11 December 1970', 'Drawn']\n",
      "['3', '108', 'Greg Chappell', 'Australia', '218', '2', 'England', '11 December 1970', 'Drawn']\n",
      "['4', '115*', 'John Edrich', 'England', '332', '3', 'Australia', '11 December 1970', 'Drawn']\n"
     ]
    }
   ],
   "source": [
    "#Print first 5 rows\n",
    "for i in range(5):\n",
    "    print(rows[i])"
   ]
  },
  {
   "cell_type": "code",
   "execution_count": null,
   "metadata": {},
   "outputs": [],
   "source": []
  }
 ],
 "metadata": {
  "kernelspec": {
   "display_name": "Python 3",
   "language": "python",
   "name": "python3"
  },
  "language_info": {
   "codemirror_mode": {
    "name": "ipython",
    "version": 3
   },
   "file_extension": ".py",
   "mimetype": "text/x-python",
   "name": "python",
   "nbconvert_exporter": "python",
   "pygments_lexer": "ipython3",
   "version": "3.7.4"
  }
 },
 "nbformat": 4,
 "nbformat_minor": 2
}
