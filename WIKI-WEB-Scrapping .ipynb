{
 "cells": [
  {
   "cell_type": "markdown",
   "metadata": {},
   "source": [
    "# Python Web Scrapping Project"
   ]
  },
  {
   "cell_type": "markdown",
   "metadata": {},
   "source": [
    "### Objective of the Project :\n",
    "- To harvest data from WIKIPEDIA about \"List of international cricket centuries at the WACA Ground\".\n",
    "- Clean the data and perform Data Visualistation\n",
    "- Gain insights about the same from the visualisation"
   ]
  },
  {
   "cell_type": "markdown",
   "metadata": {},
   "source": [
    "## WEB SCRAPPING\n",
    " - Collect data from web & store it in a file"
   ]
  },
  {
   "cell_type": "code",
   "execution_count": 13,
   "metadata": {},
   "outputs": [],
   "source": [
    "from bs4 import BeautifulSoup\n",
    "import requests\n",
    "import pandas as pd\n",
    "import matplotlib.pyplot as plt"
   ]
  },
  {
   "cell_type": "code",
   "execution_count": 7,
   "metadata": {},
   "outputs": [],
   "source": [
    "url = 'https://en.wikipedia.org/wiki/List_of_international_cricket_centuries_at_the_WACA_Ground'\n",
    "\n",
    "r = requests.get(url)\n",
    "html_doc = r.text\n",
    "soup = BeautifulSoup(html_doc) #Create soup\n",
    "table = soup.table #extract the first table component from the soup\n",
    "table_rows = table.find_all('tr') #find all tr tags inside that table\n",
    "rows = []"
   ]
  },
  {
   "cell_type": "code",
   "execution_count": 8,
   "metadata": {},
   "outputs": [],
   "source": [
    "for tr in table_rows: #accessing each row\n",
    "    tds = tr.find_all('td') #find all td tags inside the tr tags\n",
    "    row = []\n",
    "    name_index = 2 #player name column\n",
    "    count = 0\n",
    "    for td in tds: #accessing each column of a row\n",
    "        \n",
    "        if count == name_index:\n",
    "            row.append(td.text.strip(' (1/2) (2/3) (3/3) \\n \\t')) #strip extra things from the name column\n",
    "        \n",
    "        else:\n",
    "            row.append(td.text.strip()) #strip whitespaces from the columns\n",
    "            \n",
    "        count += 1\n",
    "    rows.append(row)"
   ]
  },
  {
   "cell_type": "code",
   "execution_count": 9,
   "metadata": {},
   "outputs": [
    {
     "name": "stdout",
     "output_type": "stream",
     "text": [
      "[]\n",
      "['1', '131', 'Brian Luckhurst', 'England', '301', '1', 'Australia', '11 December 1970', 'Drawn']\n",
      "['2', '171', 'Ian Redpath', 'Australia', '372', '2', 'England', '11 December 1970', 'Drawn']\n",
      "['3', '108', 'Greg Chappell', 'Australia', '218', '2', 'England', '11 December 1970', 'Drawn']\n",
      "['4', '115*', 'John Edrich', 'England', '332', '3', 'Australia', '11 December 1970', 'Drawn']\n"
     ]
    }
   ],
   "source": [
    "#Print first 5 rows\n",
    "for i in range(5):\n",
    "    print(rows[i])"
   ]
  },
  {
   "cell_type": "code",
   "execution_count": 10,
   "metadata": {},
   "outputs": [
    {
     "name": "stdout",
     "output_type": "stream",
     "text": [
      "['No.', 'Score', 'Player', 'Team', 'Balls', 'Inns.', 'Opposing team', 'Date', 'Result']\n"
     ]
    }
   ],
   "source": [
    "heads = []\n",
    "ths = table_rows[0].find_all('th') #find all the th(table heading) tags from the table\n",
    "for th in ths:\n",
    "    heads.append(th.text.strip()) #strip whitespaces\n",
    "print(heads)"
   ]
  },
  {
   "cell_type": "code",
   "execution_count": 11,
   "metadata": {},
   "outputs": [
    {
     "name": "stdout",
     "output_type": "stream",
     "text": [
      "   No. Score           Player          Team Balls Inns. Opposing team  \\\n",
      "0    1   131  Brian Luckhurst       England   301     1     Australia   \n",
      "1    2   171      Ian Redpath     Australia   372     2       England   \n",
      "2    3   108    Greg Chappell     Australia   218     2       England   \n",
      "3    4  115*      John Edrich       England   332     3     Australia   \n",
      "4    5   115     Ross Edwards     Australia   252     2       England   \n",
      "..  ..   ...              ...           ...   ...   ...           ...   \n",
      "84  85   141        JP Duminy  South Africa   225     3     Australia   \n",
      "85  86   140      Dawid Malan       England   227     1     Australia   \n",
      "86  87   119   Jonny Bairstow       England   215     1     Australia   \n",
      "87  88   239      Steve Smith     Australia   399     2       England   \n",
      "88  89   181   Mitchell Marsh     Australia   236     2       England   \n",
      "\n",
      "                Date Result  \n",
      "0   11 December 1970  Drawn  \n",
      "1   11 December 1970  Drawn  \n",
      "2   11 December 1970  Drawn  \n",
      "3   11 December 1970  Drawn  \n",
      "4   13 December 1974    Won  \n",
      "..               ...    ...  \n",
      "84   3 November 2016    Won  \n",
      "85  14 December 2017   Lost  \n",
      "86  14 December 2017   Lost  \n",
      "87  14 December 2017    Won  \n",
      "88  14 December 2017    Won  \n",
      "\n",
      "[89 rows x 9 columns]\n"
     ]
    }
   ],
   "source": [
    "df = pd.DataFrame(rows, columns=heads) #create dataframe using the row data extracted to the list and set columns as headings extracted\n",
    "df.drop(0,inplace=True) #drop the 1st row, inplace performs the action on the same data frame\n",
    "df.reset_index(inplace=True,drop=True) #reset the index so it starts from 0\n",
    "print(df) #print the data frame"
   ]
  },
  {
   "cell_type": "code",
   "execution_count": 12,
   "metadata": {},
   "outputs": [],
   "source": [
    "df.to_csv('waca_test_centuries.csv', sep=',',index=False) #save the dataframe as a csv file"
   ]
  },
  {
   "cell_type": "markdown",
   "metadata": {},
   "source": [
    "## Getting Insights & Data Visualisation"
   ]
  },
  {
   "cell_type": "code",
   "execution_count": 14,
   "metadata": {},
   "outputs": [],
   "source": [
    "data = pd.read_csv('waca_test_centuries.csv') "
   ]
  },
  {
   "cell_type": "code",
   "execution_count": 15,
   "metadata": {},
   "outputs": [
    {
     "name": "stdout",
     "output_type": "stream",
     "text": [
      "Number of centuries are: 89\n"
     ]
    }
   ],
   "source": [
    "print('Number of centuries are:',data.shape[0]) #print the shape of the data frame"
   ]
  },
  {
   "cell_type": "markdown",
   "metadata": {},
   "source": [
    "### Q1. Number of centuries scored by each country at WACA Ground"
   ]
  },
  {
   "cell_type": "code",
   "execution_count": 28,
   "metadata": {},
   "outputs": [
    {
     "name": "stdout",
     "output_type": "stream",
     "text": [
      "           Team  No.\n",
      "0     Australia   47\n",
      "1       England   12\n",
      "2         India    3\n",
      "3   New Zealand    8\n",
      "4      Pakistan    3\n",
      "5  South Africa    7\n",
      "6     Sri Lanka    1\n",
      "7   West Indies    8\n"
     ]
    },
    {
     "data": {
      "image/png": "[encoded data removed]",
      "text/plain": [
       "<Figure size 720x720 with 1 Axes>"
      ]
     },
     "metadata": {
      "needs_background": "light"
     },
     "output_type": "display_data"
    }
   ],
   "source": [
    "plt.figure(figsize=(10,10)) # Specify the figure size beforehand\n",
    "\n",
    "# Grouping by Team on basis of count of centuries\n",
    "df=data[['No.','Team']].groupby(['Team'],as_index=False).count() #if as_index=True, return object with group labels as the index\n",
    "y=df['No.']  #extract only the No. column\n",
    "labels=df['Team'] #extract only the Team column x axis\n",
    "print(df)\n",
    "\n",
    "bar = plt.bar(labels,y,color = ['#b9d90d', '#1089ea', '#140766', '#220202', '#2cce0e', '#29924c', '#1c5470', '#b01b23']) #create a bar plot\n",
    "plt.xticks(labels,rotation=45,fontweight=\"bold\") #set bar labels on the x axis x ticks are label\n",
    "\n",
    "# Labelling our plot\n",
    "plt.title('Centuries by Country',fontsize=14,fontweight=\"bold\") #set the title of the plot\n",
    "plt.ylabel('Number of centuries',fontsize=12,fontweight=\"bold\") #set the y axis label\n",
    "plt.xlabel('Country',fontsize=12,fontweight='bold') #set the x axis label\n",
    "# plt.tight_layout() \n",
    "\n",
    "# Displaying value for each bar\n",
    "for b in bar:\n",
    "    height = b.get_height()\n",
    "    #print(b.get_height(),b.get_x(),b.get_width()) get_x() gives starting position of the bar graph\n",
    "    plt.text(b.get_x()+b.get_width()/2,(height-1)/2,height,ha='center',va='bottom',fontweight=\"bold\",fontsize=10,color=\"white\")\n",
    "    \n",
    "plt.show()"
   ]
  },
  {
   "cell_type": "markdown",
   "metadata": {},
   "source": [
    "### Q2. Result when HOME batsman scores a century"
   ]
  },
  {
   "cell_type": "code",
   "execution_count": 29,
   "metadata": {},
   "outputs": [
    {
     "data": {
      "image/png": "[encoded data removed]",
      "text/plain": [
       "<Figure size 360x360 with 1 Axes>"
      ]
     },
     "metadata": {},
     "output_type": "display_data"
    }
   ],
   "source": [
    "plt.figure(figsize=(5,5)) #x,y \n",
    "df = data[['No.','Score','Team','Result']] #select only the specified columns\n",
    "total_centuries = len(df[df.Team=='Australia']) #find total centuries scored by Australia will give the result and with help of shape we counted total number of rows\n",
    "# print(total_centuries)\n",
    "matches_won = len(df[(df.Team=='Australia') & (df.Result=='Won')]) #find total matches of Australia which were won\n",
    "# print(matches_won)\n",
    "matches_lost = len(df[(df.Team=='Australia') & (df.Result=='Lost')]) #find total matches of Australia which were lost\n",
    "matches_drawn = len(df[(df.Team=='Australia') & (df.Result=='Drawn')]) #find total matches of Australia which were drawn\n",
    "sizes=[matches_won/total_centuries, matches_lost/total_centuries, matches_drawn/total_centuries] #find percentages of matches won, lost and drawn\n",
    "label=['Won', 'Lost', 'Drawn']\n",
    "plt.pie(sizes, labels=label, autopct='%.2f%%', startangle=90) #create a pie chart with percent labels on them\n",
    "plt.axis('equal') #make x and y axis equal\n",
    "# plt.tight_layout()\n",
    "plt.title('Result for Home team') #title for the pie chart\n",
    "plt.show()"
   ]
  },
  {
   "cell_type": "markdown",
   "metadata": {},
   "source": [
    "### Q3. Result when away batsman scores a century"
   ]
  },
  {
   "cell_type": "code",
   "execution_count": 30,
   "metadata": {},
   "outputs": [
    {
     "data": {
      "image/png": "[encoded data removed]",
      "text/plain": [
       "<Figure size 360x360 with 1 Axes>"
      ]
     },
     "metadata": {},
     "output_type": "display_data"
    }
   ],
   "source": [
    "plt.figure(figsize=(5,5))\n",
    "df=data[['No.','Score','Team','Result']]\n",
    "total_centuries=df[df.Team!='Australia'].shape[0]\n",
    "matches_won=len(df[(df.Team!='Australia') & (df.Result=='Won')])\n",
    "matches_drawn=len(df[(df.Team!='Australia') & (df.Result=='Drawn')])\n",
    "matches_lost=len(df[(df.Team!='Australia') & (df.Result=='Lost')])\n",
    "sizes=[matches_won/total_centuries, matches_lost/total_centuries, matches_drawn/total_centuries]\n",
    "labels=['Won', 'Lost', 'Drawn']\n",
    "plt.pie(sizes,labels=labels,autopct=\"%.2f %%\",startangle=90)\n",
    "plt.axis('equal')\n",
    "# plt.tight_layout()\n",
    "plt.title(\"Result for Away Team\", fontweight = \"bold\")\n",
    "plt.show()"
   ]
  },
  {
   "cell_type": "markdown",
   "metadata": {},
   "source": [
    "### Q4. Centuries scored in different innings"
   ]
  },
  {
   "cell_type": "code",
   "execution_count": 32,
   "metadata": {},
   "outputs": [
    {
     "name": "stdout",
     "output_type": "stream",
     "text": [
      "   Inns.  No.\n",
      "0      1   29\n",
      "1      2   25\n",
      "2      3   29\n",
      "3      4    6\n"
     ]
    },
    {
     "data": {
      "image/png": "[encoded data removed]",
      "text/plain": [
       "<Figure size 576x288 with 1 Axes>"
      ]
     },
     "metadata": {
      "needs_background": "light"
     },
     "output_type": "display_data"
    }
   ],
   "source": [
    "plt.figure(figsize=(8,4))\n",
    "inns_df=data[['No.','Inns.']].groupby(['Inns.'],as_index=False).count()\n",
    "print(inns_df)\n",
    "x=inns_df['Inns.']\n",
    "y=inns_df['No.']\n",
    "bar = plt.bar(x,y,color = ['#0f9971', '#1079ea', '#040766', '#020202'])\n",
    "plt.xticks(x)\n",
    "for b in bar:\n",
    "    height=b.get_height()\n",
    "    plt.text(b.get_x()+b.get_width()/2,height/2,height,color=\"red\",fontweight=\"bold\",ha=\"center\",va=\"bottom\",fontsize=20)\n",
    "plt.tight_layout()\n",
    "plt.title(\"Centuries scored in innings\",fontweight=\"bold\",fontsize=16)\n",
    "plt.xlabel(\"Innings\", fontweight = \"bold\")\n",
    "plt.ylabel(\"Number of Centuries\", fontweight = \"bold\")\n",
    "plt.show()"
   ]
  },
  {
   "cell_type": "code",
   "execution_count": null,
   "metadata": {},
   "outputs": [],
   "source": []
  }
 ],
 "metadata": {
  "kernelspec": {
   "display_name": "Python 3",
   "language": "python",
   "name": "python3"
  },
  "language_info": {
   "codemirror_mode": {
    "name": "ipython",
    "version": 3
   },
   "file_extension": ".py",
   "mimetype": "text/x-python",
   "name": "python",
   "nbconvert_exporter": "python",
   "pygments_lexer": "ipython3",
   "version": "3.7.4"
  }
 },
 "nbformat": 4,
 "nbformat_minor": 2
}
